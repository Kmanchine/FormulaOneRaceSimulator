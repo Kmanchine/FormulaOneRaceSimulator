{
 "cells": [
  {
   "cell_type": "markdown",
   "id": "358750d4",
   "metadata": {},
   "source": [
    "Reference:\n",
    "Race simulator for Matlab developed by AJK Phillips, 2014.\n",
    "Credit to AJK Phillips and http://f1metrics.wordpress.com/\n",
    "\n",
    "The GitHub link below is from another person who uploaded the code by Phillips, who used to put his MATLAB code on Google Drive. (For more details, check the link below)\n",
    "\n",
    "https://github.com/syllogismos/F1Sim"
   ]
  },
  {
   "cell_type": "markdown",
   "id": "fcf14cc0",
   "metadata": {},
   "source": [
    "# RaceSim\n",
    "\n",
    "For the simulation to run, we need to define the track variables and the driver variables, and import the data we get from DataAnalysis (i.e. the data from Free Practice(s) and Qualifying) to initialize these variables.\n",
    "\n"
   ]
  },
  {
   "cell_type": "markdown",
   "id": "b046cf67",
   "metadata": {},
   "source": [
    "## Track Variables\n",
    "\n",
    "Track variables include:\n",
    "\n",
    "- Name\n",
    "- Number of Laps\n",
    "- Lap Length\n",
    "- Race Length\n",
    "- Tyre variables (provided by Pirelli) \n",
    "    - Traction\n",
    "    - Braking\n",
    "    - Lateral\n",
    "    - Tyre Stress\n",
    "    - Track Evolution\n",
    "    - Asphalt Grip\n",
    "    - Asphalt Abrasion\n",
    "    - Downforce\n",
    "\n",
    "- Fuel Gain (refer to external sources)\n",
    "- DNF Factor (The likelihood of retirements as race goes on, this value is compounded by laps elapsed (?))\n",
    "- Safety Car (SC) variables (Could be extended to VSC)\n",
    "    - Probability of SC\n",
    "    - Number of Laps per SC period\n",
    "    - Laptime of SC\n",
    "    - Closest time gap between cars during the safety car period\n",
    "    - Pit Window (Laps for pit window under safety car, i.e. Safety Car Window)\n",
    "    \n",
    "- Pit variables\n",
    "    - In lap time loss\n",
    "    - Out lap time loss\n",
    "    \n",
    "- Racing variables\n",
    "    - Time gained per lap due to DRS\n",
    "    - Additional tyre wear (in laps) per lap due to DRS\n",
    "    - Overtaking variables\n",
    "        - Distance (in seconds) which the car can follow the closest\n",
    "        - Time loss (in seconds) due to being overtaken. Does not account for resistance (e.g. blocking or slowing down intentionally)\n",
    "        - Overtaking Threshold (in seconds), i.e. the time needed to attempt to overtake\n",
    "        \n",
    "- Start Time standard deviation (???)\n",
    "\n",
    "- Time difference between fresh tyre compounds\n",
    "- Relative wear of different compounds\n",
    "- Wear factor for track (Can be pulled from Pirelli's infographics)"
   ]
  },
  {
   "cell_type": "markdown",
   "id": "34d8bb3a",
   "metadata": {},
   "source": [
    "## Driver Variables\n",
    "\n",
    "Driver variables include:\n",
    "\n",
    "- name\n",
    "- Pit Strategy (Predefined, optional strategy)\n",
    "- Lap Time Standard Deviation, i.e. the variability of their laptimes\n",
    "- (For plotting) Driver Team Color"
   ]
  },
  {
   "cell_type": "markdown",
   "id": "88965200",
   "metadata": {},
   "source": [
    "## Race Variables\n",
    "\n",
    "Race variables include:\n",
    "\n",
    "- Starting Grid Order\n",
    "- Teammate pairing (Could be considered as a Driver variable)"
   ]
  }
 ],
 "metadata": {
  "kernelspec": {
   "display_name": "Python 3 (ipykernel)",
   "language": "python",
   "name": "python3"
  },
  "language_info": {
   "codemirror_mode": {
    "name": "ipython",
    "version": 3
   },
   "file_extension": ".py",
   "mimetype": "text/x-python",
   "name": "python",
   "nbconvert_exporter": "python",
   "pygments_lexer": "ipython3",
   "version": "3.9.1"
  }
 },
 "nbformat": 4,
 "nbformat_minor": 5
}
